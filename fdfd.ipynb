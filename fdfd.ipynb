{
 "cells": [
  {
   "cell_type": "markdown",
   "id": "68ac8af7",
   "metadata": {},
   "source": [
    "# My Jupyter Notebook on IBM Watson Studio"
   ]
  },
  {
   "cell_type": "markdown",
   "id": "fc681ea6",
   "metadata": {},
   "source": [
    "**William Kennedy Gomes Wanderley** Data Scientist"
   ]
  },
  {
   "cell_type": "markdown",
   "id": "7ec6018a",
   "metadata": {},
   "source": [
    "*Im interested in data science because i like data and organizing on statistics and would like to apply that to finance and organizations*"
   ]
  },
  {
   "cell_type": "markdown",
   "id": "be2e6c2f",
   "metadata": {},
   "source": [
    "### My code is suposed to loop range 1 to 10"
   ]
  },
  {
   "cell_type": "code",
   "execution_count": 6,
   "id": "94c20a05",
   "metadata": {
    "scrolled": true
   },
   "outputs": [
    {
     "name": "stdout",
     "output_type": "stream",
     "text": [
      "1\n",
      "2\n",
      "3\n",
      "4\n",
      "5\n",
      "6\n",
      "7\n",
      "8\n",
      "9\n",
      "10\n"
     ]
    }
   ],
   "source": [
    "for i in range(1,11):\n",
    "    print(i)"
   ]
  },
  {
   "cell_type": "markdown",
   "id": "321856da",
   "metadata": {},
   "source": [
    "something\n",
    "---\n",
    "hahaha\n",
    "\n",
    "1. haha\n",
    "2. hihi\n",
    "3. lol\n",
    "\n",
    "|column1|column2|\n",
    "|-------|-------|\n",
    "|header|fiel|"
   ]
  },
  {
   "cell_type": "code",
   "execution_count": null,
   "id": "13f7c34a",
   "metadata": {},
   "outputs": [],
   "source": []
  }
 ],
 "metadata": {
  "kernelspec": {
   "display_name": "Python 3 (ipykernel)",
   "language": "python",
   "name": "python3"
  },
  "language_info": {
   "codemirror_mode": {
    "name": "ipython",
    "version": 3
   },
   "file_extension": ".py",
   "mimetype": "text/x-python",
   "name": "python",
   "nbconvert_exporter": "python",
   "pygments_lexer": "ipython3",
   "version": "3.9.13"
  }
 },
 "nbformat": 4,
 "nbformat_minor": 5
}
